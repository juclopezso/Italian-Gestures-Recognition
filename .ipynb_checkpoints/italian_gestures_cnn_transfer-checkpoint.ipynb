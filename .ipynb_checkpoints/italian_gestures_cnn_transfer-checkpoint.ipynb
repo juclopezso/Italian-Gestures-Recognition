{
 "cells": [
  {
   "cell_type": "markdown",
   "metadata": {},
   "source": [
    "## AUGMENT THE TRAIN DATA"
   ]
  },
  {
   "cell_type": "code",
   "execution_count": 1,
   "metadata": {},
   "outputs": [
    {
     "name": "stderr",
     "output_type": "stream",
     "text": [
      "Using TensorFlow backend.\n"
     ]
    }
   ],
   "source": [
    "from keras.preprocessing.image import ImageDataGenerator, array_to_img, img_to_array, load_img\n",
    "from keras.models import Sequential\n",
    "from keras.layers import Conv2D, MaxPooling2D\n",
    "from keras.layers import Activation, Dropout, Flatten, Dense"
   ]
  },
  {
   "cell_type": "code",
   "execution_count": 13,
   "metadata": {},
   "outputs": [],
   "source": [
    "datagen = ImageDataGenerator(\n",
    "        rotation_range=30,\n",
    "        width_shift_range=0.2,\n",
    "        height_shift_range=0.2,\n",
    "        rescale=1./255,\n",
    "        shear_range=0.2,\n",
    "        zoom_range=0.2,\n",
    "        horizontal_flip=True,\n",
    "        fill_mode='nearest') #the strategy used for filling in newly created pixels\n",
    "\n",
    "pigna_route = 'data/train/1_pigna/'\n",
    "img = load_img(pigna_route+'pigna00003.png')  # this is a PIL image\n",
    "x = img_to_array(img)  # this is a Numpy array with shape (3, 150, 150)\n",
    "x = x.reshape((1,) + x.shape)  # this is a Numpy array with shape (1, 3, 150, 150)\n",
    "\n",
    "# the .flow() command below generates batches of randomly transformed images\n",
    "# and saves the results to the `preview/` directory\n",
    "i = 0\n",
    "for batch in datagen.flow(x, batch_size=1, save_to_dir='preview', save_prefix='pigna', save_format='jpeg'):\n",
    "    i += 1\n",
    "    if i > 20:\n",
    "        break  # otherwise the generator would loop indefinitely"
   ]
  },
  {
   "cell_type": "code",
   "execution_count": 18,
   "metadata": {},
   "outputs": [
    {
     "name": "stdout",
     "output_type": "stream",
     "text": [
      "1. buono\n",
      "2. noimporta\n",
      "3. ok\n",
      "4. pigna\n",
      "5. pigna2\n",
      "6. pray\n"
     ]
    }
   ],
   "source": [
    "from sklearn.preprocessing import MultiLabelBinarizer\n",
    "\n",
    "labels = [['pigna'], ['pigna2'], ['noimporta'], ['buono'], ['pray'], ['ok']]\n",
    "\n",
    "mlb = MultiLabelBinarizer()\n",
    "labels = mlb.fit_transform(labels)\n",
    " \n",
    "# loop over each of the possible class labels and show them\n",
    "for (i, label) in enumerate(mlb.classes_):\n",
    "    print(\"{}. {}\".format(i + 1, label))"
   ]
  },
  {
   "cell_type": "markdown",
   "metadata": {},
   "source": [
    "## LEARNING"
   ]
  },
  {
   "cell_type": "markdown",
   "metadata": {},
   "source": [
    "There are different ways to modulate entropic capacity. The main one is the choice of the number of parameters in your model, i.e. the number of layers and the size of each layer. Another way is the use of weight regularization, such as L1 or L2 regularization, which consists in forcing model weights to taker smaller values.\n",
    "\n",
    "In our case we will use a very small convnet with few layers and few filters per layer, alongside data augmentation and dropout. Dropout also helps reduce overfitting, by preventing a layer from seeing twice the exact same pattern, thus acting in a way analoguous to data augmentation (you could say that both dropout and data augmentation tend to disrupt random correlations occuring in your data).\n",
    "\n",
    "The code snippet below is our first model, a simple stack of 3 convolution layers with a ReLU activation and followed by max-pooling layers."
   ]
  },
  {
   "cell_type": "markdown",
   "metadata": {},
   "source": [
    "## Model from scratch"
   ]
  },
  {
   "cell_type": "code",
   "execution_count": 29,
   "metadata": {},
   "outputs": [],
   "source": [
    "# dimensions of our images.\n",
    "img_width, img_height = 150, 150\n",
    "\n",
    "train_data_dir = 'data/train'\n",
    "validation_data_dir = 'data/validation'\n",
    "nb_train_samples = 25 #2000\n",
    "nb_validation_samples = 4 #800\n",
    "epochs = 50 #50\n",
    "batch_size = 4 #16\n",
    "input_shape = (img_width, img_height, 3) #Color images\n",
    "\n",
    "#MODEL\n",
    "def build_model():\n",
    "    \n",
    "    model = Sequential()\n",
    "    model.add(Conv2D(32, (3, 3), input_shape=input_shape))\n",
    "    model.add(Activation('relu'))\n",
    "    model.add(MaxPooling2D(pool_size=(2, 2)))\n",
    "\n",
    "    model.add(Conv2D(32, (3, 3)))\n",
    "    model.add(Activation('relu'))\n",
    "    model.add(MaxPooling2D(pool_size=(2, 2)))\n",
    "\n",
    "    model.add(Conv2D(64, (3, 3)))\n",
    "    model.add(Activation('relu'))\n",
    "    model.add(MaxPooling2D(pool_size=(2, 2)))\n",
    "    # the model so far outputs 3D feature maps (height, width, features)\n",
    "    \n",
    "    #On top of it we stick two fully-connected layers.\n",
    "    model.add(Flatten())  # this converts our 3D feature maps to 1D feature vectors\n",
    "    model.add(Dense(64))\n",
    "    model.add(Activation('relu'))\n",
    "    model.add(Dropout(0.5))\n",
    "    model.add(Dense(6))\n",
    "    model.add(Activation('softmax'))\n",
    "\n",
    "    model.compile(loss='sparse_categorical_crossentropy',\n",
    "                  optimizer='adam', #other optimizer: 'adam'\n",
    "                  metrics=['accuracy'])\n",
    "    \n",
    "    return model"
   ]
  },
  {
   "cell_type": "markdown",
   "metadata": {},
   "source": [
    "Let's prepare our data. We will use .flow_from_directory() to generate batches of image data (and their labels) directly from our jpgs in their respective folders."
   ]
  },
  {
   "cell_type": "code",
   "execution_count": 30,
   "metadata": {},
   "outputs": [
    {
     "name": "stdout",
     "output_type": "stream",
     "text": [
      "Found 160 images belonging to 6 classes.\n",
      "Found 24 images belonging to 6 classes.\n"
     ]
    }
   ],
   "source": [
    "# this is the augmentation configuration we will use for training\n",
    "train_datagen = ImageDataGenerator(\n",
    "        rescale=1./255,\n",
    "        shear_range=0.2,\n",
    "        zoom_range=0.2,\n",
    "        horizontal_flip=True)\n",
    "\n",
    "# this is the augmentation configuration we will use for testing:\n",
    "# only rescaling\n",
    "test_datagen = ImageDataGenerator(rescale=1./255)\n",
    "\n",
    "# this is a generator that will read pictures found in\n",
    "# subfolers of 'data/train', and indefinitely generate\n",
    "# batches of augmented image data\n",
    "train_generator = train_datagen.flow_from_directory(\n",
    "        'data/train',  # this is the target directory\n",
    "        target_size=(img_width, img_height),  # all images will be resized to 150x150\n",
    "        batch_size=batch_size,\n",
    "        #color_mode='grayscale',\n",
    "        class_mode='sparse')  #1D numpy array of integer labels\n",
    "\n",
    "# this is a similar generator, for validation data\n",
    "validation_generator = test_datagen.flow_from_directory(\n",
    "        'data/validation',\n",
    "        target_size=(img_width, img_height),\n",
    "        batch_size=batch_size,\n",
    "        #color_mode='grayscale',\n",
    "        class_mode='sparse') #1D numpy array of integer labels\n"
   ]
  },
  {
   "cell_type": "code",
   "execution_count": 31,
   "metadata": {},
   "outputs": [
    {
     "name": "stdout",
     "output_type": "stream",
     "text": [
      "Epoch 1/50\n",
      "6/6 [==============================] - 3s 422ms/step - loss: 1.9623 - acc: 0.0833 - val_loss: 1.8136 - val_acc: 0.2500\n",
      "Epoch 2/50\n",
      "6/6 [==============================] - 1s 219ms/step - loss: 1.8040 - acc: 0.2083 - val_loss: 1.7943 - val_acc: 0.2500\n",
      "Epoch 3/50\n",
      "6/6 [==============================] - 2s 351ms/step - loss: 1.7932 - acc: 0.0417 - val_loss: 1.7983 - val_acc: 0.0000e+00\n",
      "Epoch 4/50\n",
      "6/6 [==============================] - 2s 415ms/step - loss: 1.7941 - acc: 0.0000e+00 - val_loss: 1.7978 - val_acc: 0.2500\n",
      "Epoch 5/50\n",
      "6/6 [==============================] - 2s 366ms/step - loss: 1.7923 - acc: 0.2083 - val_loss: 1.7840 - val_acc: 0.0000e+00\n",
      "Epoch 6/50\n",
      "6/6 [==============================] - 2s 377ms/step - loss: 1.8141 - acc: 0.0833 - val_loss: 1.7928 - val_acc: 0.2500\n",
      "Epoch 7/50\n",
      "6/6 [==============================] - 3s 495ms/step - loss: 1.7943 - acc: 0.1667 - val_loss: 1.7917 - val_acc: 0.2500\n",
      "Epoch 8/50\n",
      "6/6 [==============================] - 3s 513ms/step - loss: 1.7909 - acc: 0.1250 - val_loss: 1.7919 - val_acc: 0.0000e+00\n",
      "Epoch 9/50\n",
      "6/6 [==============================] - 2s 384ms/step - loss: 1.7868 - acc: 0.2917 - val_loss: 1.7847 - val_acc: 0.2500\n",
      "Epoch 10/50\n",
      "6/6 [==============================] - 2s 392ms/step - loss: 1.7934 - acc: 0.1250 - val_loss: 1.7948 - val_acc: 0.0000e+00\n",
      "Epoch 11/50\n",
      "6/6 [==============================] - 3s 467ms/step - loss: 1.7920 - acc: 0.2500 - val_loss: 1.7825 - val_acc: 0.5000\n",
      "Epoch 12/50\n",
      "6/6 [==============================] - 2s 412ms/step - loss: 1.7921 - acc: 0.0417 - val_loss: 1.8034 - val_acc: 0.0000e+00\n",
      "Epoch 13/50\n",
      "6/6 [==============================] - 2s 280ms/step - loss: 1.8004 - acc: 0.0833 - val_loss: 1.7910 - val_acc: 0.2500\n",
      "Epoch 14/50\n",
      "6/6 [==============================] - 4s 585ms/step - loss: 1.7862 - acc: 0.2083 - val_loss: 1.7967 - val_acc: 0.0000e+00\n",
      "Epoch 15/50\n",
      "6/6 [==============================] - 2s 364ms/step - loss: 1.7947 - acc: 0.0833 - val_loss: 1.7924 - val_acc: 0.0000e+00\n",
      "Epoch 16/50\n",
      "6/6 [==============================] - 3s 498ms/step - loss: 1.7843 - acc: 0.2083 - val_loss: 1.8010 - val_acc: 0.2500\n",
      "Epoch 17/50\n",
      "6/6 [==============================] - 3s 425ms/step - loss: 1.7725 - acc: 0.1667 - val_loss: 1.7493 - val_acc: 0.2500\n",
      "Epoch 18/50\n",
      "6/6 [==============================] - 2s 390ms/step - loss: 1.7847 - acc: 0.2083 - val_loss: 1.8389 - val_acc: 0.2500\n",
      "Epoch 19/50\n",
      "6/6 [==============================] - 3s 464ms/step - loss: 1.8091 - acc: 0.2083 - val_loss: 1.8390 - val_acc: 0.2500\n",
      "Epoch 20/50\n",
      "6/6 [==============================] - 2s 398ms/step - loss: 1.7963 - acc: 0.2083 - val_loss: 1.8270 - val_acc: 0.0000e+00\n",
      "Epoch 21/50\n",
      "6/6 [==============================] - 4s 595ms/step - loss: 1.7830 - acc: 0.1667 - val_loss: 1.8069 - val_acc: 0.0000e+00\n",
      "Epoch 22/50\n",
      "6/6 [==============================] - 3s 474ms/step - loss: 1.8033 - acc: 0.2083 - val_loss: 1.7976 - val_acc: 0.2500\n",
      "Epoch 23/50\n",
      "6/6 [==============================] - 2s 293ms/step - loss: 1.8030 - acc: 0.0833 - val_loss: 1.8095 - val_acc: 0.0000e+00\n",
      "Epoch 24/50\n",
      "6/6 [==============================] - 2s 316ms/step - loss: 1.7911 - acc: 0.0833 - val_loss: 1.7832 - val_acc: 0.5000\n",
      "Epoch 25/50\n",
      "6/6 [==============================] - 2s 378ms/step - loss: 1.7904 - acc: 0.2500 - val_loss: 1.8028 - val_acc: 0.2500\n",
      "Epoch 26/50\n",
      "6/6 [==============================] - 3s 494ms/step - loss: 1.7826 - acc: 0.2500 - val_loss: 1.7794 - val_acc: 0.5000\n",
      "Epoch 27/50\n",
      "6/6 [==============================] - 3s 418ms/step - loss: 1.7881 - acc: 0.2083 - val_loss: 1.8411 - val_acc: 0.0000e+00\n",
      "Epoch 28/50\n",
      "6/6 [==============================] - 3s 454ms/step - loss: 1.7809 - acc: 0.2083 - val_loss: 1.7670 - val_acc: 0.0000e+00\n",
      "Epoch 29/50\n",
      "6/6 [==============================] - 3s 485ms/step - loss: 1.8100 - acc: 0.2500 - val_loss: 1.7646 - val_acc: 0.2500\n",
      "Epoch 30/50\n",
      "6/6 [==============================] - 2s 333ms/step - loss: 1.7827 - acc: 0.3750 - val_loss: 1.7925 - val_acc: 0.2500\n",
      "Epoch 31/50\n",
      "6/6 [==============================] - 2s 271ms/step - loss: 1.8275 - acc: 0.1667 - val_loss: 1.7991 - val_acc: 0.0000e+00\n",
      "Epoch 32/50\n",
      "6/6 [==============================] - 2s 262ms/step - loss: 1.8052 - acc: 0.1667 - val_loss: 1.8107 - val_acc: 0.0000e+00\n",
      "Epoch 33/50\n",
      "6/6 [==============================] - 3s 506ms/step - loss: 1.7996 - acc: 0.3333 - val_loss: 1.8159 - val_acc: 0.0000e+00\n",
      "Epoch 34/50\n",
      "6/6 [==============================] - 2s 379ms/step - loss: 1.7711 - acc: 0.3750 - val_loss: 1.7449 - val_acc: 0.2500\n",
      "Epoch 35/50\n",
      "6/6 [==============================] - 2s 325ms/step - loss: 1.8241 - acc: 0.0833 - val_loss: 1.7865 - val_acc: 0.2500\n",
      "Epoch 36/50\n",
      "6/6 [==============================] - 2s 257ms/step - loss: 1.7745 - acc: 0.2500 - val_loss: 1.7341 - val_acc: 0.7500\n",
      "Epoch 37/50\n",
      "6/6 [==============================] - 3s 421ms/step - loss: 1.7982 - acc: 0.0833 - val_loss: 1.8105 - val_acc: 0.0000e+00\n",
      "Epoch 38/50\n",
      "6/6 [==============================] - 2s 274ms/step - loss: 1.7882 - acc: 0.1667 - val_loss: 1.7698 - val_acc: 0.2500\n",
      "Epoch 39/50\n",
      "6/6 [==============================] - 2s 385ms/step - loss: 1.7749 - acc: 0.2500 - val_loss: 1.8122 - val_acc: 0.0000e+00\n",
      "Epoch 40/50\n",
      "6/6 [==============================] - 3s 445ms/step - loss: 1.7954 - acc: 0.1667 - val_loss: 1.7299 - val_acc: 0.5000\n",
      "Epoch 41/50\n",
      "6/6 [==============================] - 3s 505ms/step - loss: 1.7828 - acc: 0.3333 - val_loss: 1.7961 - val_acc: 0.0000e+00\n",
      "Epoch 42/50\n",
      "6/6 [==============================] - 2s 267ms/step - loss: 1.7725 - acc: 0.3333 - val_loss: 1.8281 - val_acc: 0.0000e+00\n",
      "Epoch 43/50\n",
      "6/6 [==============================] - 3s 437ms/step - loss: 1.7260 - acc: 0.2500 - val_loss: 2.2801 - val_acc: 0.0000e+00\n",
      "Epoch 44/50\n",
      "6/6 [==============================] - 2s 349ms/step - loss: 1.8865 - acc: 0.1667 - val_loss: 1.6860 - val_acc: 0.5000\n",
      "Epoch 45/50\n",
      "6/6 [==============================] - 2s 297ms/step - loss: 1.7817 - acc: 0.2083 - val_loss: 1.8469 - val_acc: 0.0000e+00\n",
      "Epoch 46/50\n",
      "6/6 [==============================] - 2s 305ms/step - loss: 1.7250 - acc: 0.2917 - val_loss: 1.9993 - val_acc: 0.2500\n",
      "Epoch 47/50\n",
      "6/6 [==============================] - 2s 384ms/step - loss: 1.9089 - acc: 0.1250 - val_loss: 1.7720 - val_acc: 0.5000\n",
      "Epoch 48/50\n",
      "6/6 [==============================] - 2s 327ms/step - loss: 1.7753 - acc: 0.2500 - val_loss: 1.8258 - val_acc: 0.0000e+00\n",
      "Epoch 49/50\n",
      "6/6 [==============================] - 2s 334ms/step - loss: 1.7855 - acc: 0.2083 - val_loss: 1.7895 - val_acc: 0.0000e+00\n",
      "Epoch 50/50\n",
      "6/6 [==============================] - 1s 233ms/step - loss: 1.7606 - acc: 0.2083 - val_loss: 1.6985 - val_acc: 0.2500\n"
     ]
    }
   ],
   "source": [
    "model = build_model()\n",
    "\n",
    "model.fit_generator(\n",
    "    train_generator,\n",
    "    steps_per_epoch = nb_train_samples // batch_size,\n",
    "    epochs = epochs,\n",
    "    validation_data = validation_generator,\n",
    "    validation_steps = nb_validation_samples // batch_size)\n",
    "\n",
    "model.save_weights('first_try.h5')  # always save your weights after training or during training\n"
   ]
  },
  {
   "cell_type": "markdown",
   "metadata": {},
   "source": [
    "## Predict"
   ]
  },
  {
   "cell_type": "code",
   "execution_count": 26,
   "metadata": {},
   "outputs": [
    {
     "name": "stdout",
     "output_type": "stream",
     "text": [
      "[INFO] loading network...\n",
      "[INFO] classifying image... [0.17340367 0.16915399 0.16296852 0.17300518 0.1594324  0.16203626] [4 5 2 1 3 0]\n"
     ]
    },
    {
     "data": {
      "text/plain": [
       "4"
      ]
     },
     "execution_count": 26,
     "metadata": {},
     "output_type": "execute_result"
    }
   ],
   "source": [
    "import cv2\n",
    "from skimage import transform #Preprocess the frames\n",
    "from skimage.color import rgb2gray #To gray the frames\n",
    "import numpy as np\n",
    "\n",
    "def preprocess_image(image_uri):\n",
    "\n",
    "    # load the image\n",
    "    image = cv2.imread(image_uri)\n",
    "    image = rgb2gray(image)\n",
    "\n",
    "    # pre-process the image for classification\n",
    "    image = transform.resize(image, [150, 150])\n",
    "    image = image.astype(\"float\") / 255.0\n",
    "    image = img_to_array(image)\n",
    "    image = np.expand_dims(image, axis=0)\n",
    "    \n",
    "    return image\n",
    "\n",
    "\n",
    "class Predictor:\n",
    "    def __init__(self, model_name):\n",
    "        print(\"[INFO] loading network...\")\n",
    "        self.model = build_model()\n",
    "        self.weights = self.model.load_weights(model_name)\n",
    "    \n",
    "    def predict_image(self, image_uri):\n",
    "        # load the trained convolutional neural network\n",
    "        image = preprocess_image(image_uri)\n",
    "\n",
    "        # classify the input image then find the indexes of the two class\n",
    "        # labels with the *largest* probability\n",
    "        proba = self.model.predict(image)[0]\n",
    "        idxs = np.argsort(proba)\n",
    "        print(\"[INFO] classifying image...\",proba, idxs)\n",
    "\n",
    "        return idxs[0]\n",
    "        \n",
    "predictor = Predictor(\"first_try.h5\")   \n",
    "predictor.predict_image(\"data/validation/1/archivo00002.png\")"
   ]
  },
  {
   "cell_type": "markdown",
   "metadata": {},
   "source": [
    "### Edge detection (not used)"
   ]
  },
  {
   "cell_type": "code",
   "execution_count": 33,
   "metadata": {},
   "outputs": [
    {
     "data": {
      "text/plain": [
       "<matplotlib.image.AxesImage at 0x13e978898>"
      ]
     },
     "execution_count": 33,
     "metadata": {},
     "output_type": "execute_result"
    },
    {
     "data": {
      "image/png": "[encoded data removed]",
      "text/plain": [
       "<Figure size 432x288 with 1 Axes>"
      ]
     },
     "metadata": {
      "needs_background": "light"
     },
     "output_type": "display_data"
    }
   ],
   "source": [
    "import cv2\n",
    "import sys\n",
    "import matplotlib.pyplot as plt\n",
    "\n",
    "def edge_detection(image_uri):\n",
    "    # The first argument is the image\n",
    "    image = cv2.imread(image_uri)\n",
    "    image_resized = transform.resize(image, [150, 150])\n",
    "\n",
    "    #convert to grayscale\n",
    "    gray_image = cv2.cvtColor(image, cv2.COLOR_BGR2GRAY)\n",
    "\n",
    "    #blur it\n",
    "    blurred_image = cv2.GaussianBlur(gray_image, (7,7), 0)\n",
    "    #Edges\n",
    "    canny = cv2.Canny(blurred_image, 10, 30)\n",
    "    canny = transform.resize(canny, [180, 180])\n",
    "\n",
    "    canny2 = cv2.Canny(blurred_image, 20, 60)\n",
    "    canny2 = transform.resize(canny2, [180, 180])\n",
    "    \n",
    "    return image_resized, canny, canny2\n",
    "\n",
    "img, canny, canny2 = edge_detection(\"data/validation/5/archivo00002.png\")\n",
    "#plt.imshow(img)\n",
    "#plt.imshow(canny)\n",
    "#plt.imshow(canny2)"
   ]
  },
  {
   "cell_type": "markdown",
   "metadata": {},
   "source": [
    "### Hog features"
   ]
  },
  {
   "cell_type": "code",
   "execution_count": 42,
   "metadata": {},
   "outputs": [
    {
     "data": {
      "text/plain": [
       "<matplotlib.image.AxesImage at 0x1441fa400>"
      ]
     },
     "execution_count": 42,
     "metadata": {},
     "output_type": "execute_result"
    },
    {
     "data": {
      "image/png": "[encoded data removed]",
      "text/plain": [
       "<Figure size 432x288 with 1 Axes>"
      ]
     },
     "metadata": {
      "needs_background": "light"
     },
     "output_type": "display_data"
    }
   ],
   "source": [
    "from skimage.feature import hog\n",
    "\n",
    "def hog_features(image_uri):\n",
    "    ppc = 64\n",
    "    hog_images = []\n",
    "    hog_features = []\n",
    "\n",
    "    image = cv2.imread(image_uri)\n",
    "    image = rgb2gray(image)\n",
    "\n",
    "    fd,hog_image = hog(image, orientations=8, pixels_per_cell=(ppc,ppc),\n",
    "                       cells_per_block=(4, 4),block_norm='L2',visualise=True)\n",
    "\n",
    "    hog_images.append(hog_image)\n",
    "    hog_features.append(fd)\n",
    "\n",
    "plt.imshow(hog_images[0])\n"
   ]
  },
  {
   "cell_type": "markdown",
   "metadata": {},
   "source": [
    "## Video frames"
   ]
  },
  {
   "cell_type": "code",
   "execution_count": 27,
   "metadata": {},
   "outputs": [],
   "source": [
    "import cv2\n",
    "\n",
    "vidcap = cv2.VideoCapture('data/videos/video1.mp4')\n",
    "success,image = vidcap.read()\n",
    "count = 0\n",
    "success = True\n",
    "image_count = 1\n",
    "while success:\n",
    "    if count%8==0:\n",
    "        cv2.imwrite(\"data/videos/1/frame%d.jpg\" % image_count, image) # save frame as JPEG file\n",
    "        image_count += 1\n",
    "        #print('Read a new frame: ', success)\n",
    "    success,image = vidcap.read()    \n",
    "    count += 1"
   ]
  },
  {
   "cell_type": "markdown",
   "metadata": {},
   "source": [
    "## Classify the frames of the video"
   ]
  },
  {
   "cell_type": "code",
   "execution_count": 28,
   "metadata": {},
   "outputs": [
    {
     "name": "stdout",
     "output_type": "stream",
     "text": [
      "[INFO] classifying image... [0.17341092 0.1691308  0.16295822 0.17300425 0.15944482 0.16205095] [4 5 2 1 3 0]\n",
      "[INFO] classifying image... [0.17341037 0.16913156 0.16295828 0.17300388 0.15944485 0.16205104] [4 5 2 1 3 0]\n",
      "[INFO] classifying image... [0.1734103  0.16913094 0.16295815 0.1730043  0.15944521 0.16205111] [4 5 2 1 3 0]\n",
      "[INFO] classifying image... [0.17341048 0.16913103 0.16295819 0.17300434 0.15944508 0.16205096] [4 5 2 1 3 0]\n",
      "[INFO] classifying image... [0.17341073 0.16913137 0.16295812 0.17300408 0.15944475 0.16205098] [4 5 2 1 3 0]\n",
      "[INFO] classifying image... [0.17341027 0.16913114 0.1629581  0.17300412 0.15944512 0.16205123] [4 5 2 1 3 0]\n",
      "[INFO] classifying image... [0.17340048 0.16914923 0.16296518 0.17300913 0.15943672 0.16203932] [4 5 2 1 3 0]\n",
      "[INFO] classifying image... [0.1733996  0.16914801 0.16296227 0.17300609 0.1594394  0.16204457] [4 5 2 1 3 0]\n",
      "[INFO] classifying image... [0.173401   0.1691459  0.1629611  0.1730066  0.15944007 0.1620453 ] [4 5 2 1 3 0]\n",
      "[INFO] classifying image... [0.17340216 0.16914518 0.16296223 0.1730089  0.15943909 0.16204233] [4 5 2 1 3 0]\n",
      "[INFO] classifying image... [0.17340094 0.16914514 0.16296597 0.17301236 0.1594373  0.16203831] [4 5 2 1 3 0]\n",
      "[INFO] classifying image... [0.17340158 0.16914855 0.16297099 0.17301166 0.15943451 0.16203268] [4 5 2 1 3 0]\n",
      "[INFO] classifying image... [0.17340228 0.16914816 0.16297112 0.17301281 0.159434   0.16203168] [4 5 2 1 3 0]\n",
      "[INFO] classifying image... [0.17340156 0.16914836 0.16297342 0.17301482 0.15943287 0.16202892] [4 5 2 1 3 0]\n",
      "[INFO] classifying image... [0.17339338 0.16914028 0.16296318 0.17301278 0.15944296 0.16204748] [4 5 2 1 3 0]\n",
      "[INFO] classifying image... [0.17339613 0.16914222 0.1629659  0.1730103  0.1594411  0.16204423] [4 5 2 1 3 0]\n",
      "[INFO] classifying image... [0.17339462 0.16914017 0.16296063 0.17301233 0.15944327 0.16204889] [4 5 2 1 3 0]\n",
      "[INFO] classifying image... [0.17340417 0.16914949 0.16297324 0.17301631 0.1594305  0.16202633] [4 5 2 1 3 0]\n",
      "[INFO] classifying image... [0.1734041  0.16914938 0.16297333 0.1730166  0.15943047 0.16202608] [4 5 2 1 3 0]\n",
      "[INFO] classifying image... [0.17340373 0.16914982 0.1629733  0.1730162  0.15943058 0.16202639] [4 5 2 1 3 0]\n",
      "[INFO] classifying image... [0.17340404 0.1691494  0.16297334 0.17301673 0.15943053 0.16202594] [4 5 2 1 3 0]\n",
      "[INFO] classifying image... [0.17341362 0.16912164 0.16295405 0.17300633 0.15944861 0.16205569] [4 5 2 1 3 0]\n",
      "[INFO] classifying image... [0.17341365 0.16912167 0.16295406 0.17300636 0.15944862 0.1620557 ] [4 5 2 1 3 0]\n",
      "[INFO] classifying image... [0.17341365 0.16912167 0.16295406 0.17300636 0.15944862 0.1620557 ] [4 5 2 1 3 0]\n",
      "[INFO] classifying image... [0.17341365 0.16912167 0.16295406 0.17300636 0.15944862 0.1620557 ] [4 5 2 1 3 0]\n",
      "[INFO] classifying image... [0.17341365 0.16912167 0.16295406 0.17300636 0.15944862 0.1620557 ] [4 5 2 1 3 0]\n",
      "26\n",
      "[4, 4, 4, 4, 4, 4, 4, 4, 4, 4, 4, 4, 4, 4, 4, 4, 4, 4, 4, 4, 4, 4, 4, 4, 4, 4]\n"
     ]
    }
   ],
   "source": [
    "predicted = []\n",
    "for i in range(1,image_count):\n",
    "    predicted.append(predictor.predict_image(\"data/videos/1/frame%d.jpg\" % i))\n",
    "\n",
    "print(len(predicted))\n",
    "print(predicted)"
   ]
  },
  {
   "cell_type": "code",
   "execution_count": 10,
   "metadata": {},
   "outputs": [
    {
     "name": "stdout",
     "output_type": "stream",
     "text": [
      "26\n",
      "78\n",
      "104\n",
      "78\n"
     ]
    }
   ],
   "source": [
    "felicidad_tristeza = 0\n",
    "calma_desesperacion = 0\n",
    "agrado_desprecio = 0\n",
    "euforia_enfado = 0\n",
    "\n",
    "for i in predicted:\n",
    "    if i == 0:\n",
    "        felicidad_tristeza += 1\n",
    "        calma_desesperacion += 1\n",
    "        agrado_desprecio += 1\n",
    "        euforia_enfado += 1\n",
    "    if i == 1:\n",
    "        felicidad_tristeza += 1\n",
    "        calma_desesperacion += 3\n",
    "        agrado_desprecio += 2\n",
    "        euforia_enfado += 2\n",
    "    if i == 2:\n",
    "        felicidad_tristeza += 1\n",
    "        calma_desesperacion += 3\n",
    "        agrado_desprecio += 4\n",
    "        euforia_enfado += 3\n",
    "    if i == 3:\n",
    "        felicidad_tristeza -= 4\n",
    "        calma_desesperacion -= 3\n",
    "        agrado_desprecio -= 3\n",
    "        euforia_enfado -= 1\n",
    "    if i == 4:\n",
    "        felicidad_tristeza += 3\n",
    "        calma_desesperacion += 5\n",
    "        agrado_desprecio += 2\n",
    "        euforia_enfado += 1\n",
    "    if i == 5:\n",
    "        felicidad_tristeza -= 4\n",
    "        calma_desesperacion -= 2\n",
    "        agrado_desprecio -= 5\n",
    "        euforia_enfado -= 4\n",
    "\n",
    "print(felicidad_tristeza)\n",
    "print(calma_desesperacion)\n",
    "print(agrado_desprecio)\n",
    "print(euforia_enfado)"
   ]
  },
  {
   "cell_type": "markdown",
   "metadata": {},
   "source": [
    "## Load pretrained model"
   ]
  },
  {
   "cell_type": "code",
   "execution_count": 2,
   "metadata": {},
   "outputs": [],
   "source": [
    "import pandas as pd\n",
    "import numpy as np\n",
    "import os\n",
    "import keras\n",
    "import matplotlib.pyplot as plt\n",
    "from keras.layers import Dense,GlobalAveragePooling2D\n",
    "from keras.applications import MobileNetV2\n",
    "from keras.preprocessing import image\n",
    "from keras.applications.mobilenet import preprocess_input\n",
    "from keras.preprocessing.image import ImageDataGenerator\n",
    "from keras.models import Model\n",
    "from keras.optimizers import Adam\n",
    "from keras.preprocessing.image import ImageDataGenerator, array_to_img, img_to_array, load_img"
   ]
  },
  {
   "cell_type": "code",
   "execution_count": 3,
   "metadata": {},
   "outputs": [],
   "source": [
    "from keras import applications\n",
    "from keras.preprocessing.image import ImageDataGenerator\n",
    "from keras import optimizers\n",
    "from keras.models import Sequential, Model \n",
    "from keras.layers import Dropout, Flatten, Dense, GlobalAveragePooling2D\n",
    "from keras import backend as k \n",
    "from keras.callbacks import ModelCheckpoint, LearningRateScheduler, TensorBoard, EarlyStopping\n",
    "\n",
    "img_width, img_height = 160, 160\n",
    "train_data_dir = \"data/train\"\n",
    "validation_data_dir = \"data/validation\"\n",
    "nb_train_samples = 41\n",
    "nb_validation_samples = 6\n",
    "batch_size = 6\n",
    "epochs = 30\n",
    "\n",
    "#model = applications.VGG19(weights = \"imagenet\", include_top=False, input_shape = (img_width, img_height, 3))\n",
    "\n",
    "model = MobileNetV2(weights='imagenet',include_top=False,input_shape = (160, 160, 3)) \n",
    "\n",
    "#model = applications.resnet50.ResNet50(weights= \"imagenet\", include_top=False, input_shape= (img_height,img_width,3))"
   ]
  },
  {
   "cell_type": "code",
   "execution_count": 4,
   "metadata": {},
   "outputs": [
    {
     "name": "stderr",
     "output_type": "stream",
     "text": [
      "/Users/juancho/anaconda3/envs/isproject/lib/python3.6/site-packages/ipykernel_launcher.py:15: UserWarning: Update your `Model` call to the Keras 2 API: `Model(inputs=Tensor(\"in..., outputs=Tensor(\"de...)`\n",
      "  from ipykernel import kernelapp as app\n"
     ]
    },
    {
     "name": "stdout",
     "output_type": "stream",
     "text": [
      "Found 205 images belonging to 5 classes.\n",
      "Found 30 images belonging to 5 classes.\n"
     ]
    }
   ],
   "source": [
    "# Freeze the layers which you don't want to train. Here I am freezing the first 5 layers.\n",
    "#for layer in model.layers[:4]:\n",
    "#    layer.trainable = False\n",
    "model = MobileNetV2(weights='imagenet',include_top=False,input_shape = (160, 160, 3)) \n",
    "#Adding custom Layers \n",
    "x = model.output\n",
    "x = GlobalAveragePooling2D()(x)\n",
    "x = Dense(1024, activation=\"relu\")(x)\n",
    "x = Dense(512, activation='relu')(x) \n",
    "x = Dense(128, activation='relu')(x) \n",
    "x = Dropout(0.5)(x)\n",
    "predictions = Dense(6, activation=\"softmax\")(x)\n",
    "\n",
    "# creating the final model \n",
    "model_final = Model(input = model.input, output = predictions)\n",
    "\n",
    "# compile the model \n",
    "model_final.compile(loss = \"categorical_crossentropy\", \n",
    "                    optimizer = optimizers.SGD(lr=0.0005, momentum=0.9), \n",
    "                    metrics=[\"accuracy\"])\n",
    "\n",
    "# Initiate the train and test generators with data Augumentation \n",
    "train_datagen = ImageDataGenerator(\n",
    "    rescale = 1./255,\n",
    "    horizontal_flip = True,\n",
    "    fill_mode = \"nearest\",\n",
    "    zoom_range = 0.3,\n",
    "    width_shift_range = 0.3,\n",
    "    height_shift_range=0.3,\n",
    "    rotation_range=30)\n",
    "\n",
    "test_datagen = ImageDataGenerator(\n",
    "    rescale = 1./255,\n",
    "    horizontal_flip = True,\n",
    "    fill_mode = \"nearest\",\n",
    "    zoom_range = 0.3,\n",
    "    width_shift_range = 0.3,\n",
    "    height_shift_range=0.3,\n",
    "    rotation_range=30)\n",
    "\n",
    "train_generator = train_datagen.flow_from_directory(\n",
    "    train_data_dir,\n",
    "    target_size = (img_height, img_width),\n",
    "    batch_size = batch_size,\n",
    "    #color_mode='grayscale',\n",
    "    class_mode = \"categorical\")\n",
    "\n",
    "validation_generator = test_datagen.flow_from_directory(\n",
    "    validation_data_dir,\n",
    "    target_size = (img_height, img_width),\n",
    "    #color_mode='grayscale',\n",
    "    class_mode = \"categorical\")\n"
   ]
  },
  {
   "cell_type": "code",
   "execution_count": 5,
   "metadata": {},
   "outputs": [
    {
     "name": "stderr",
     "output_type": "stream",
     "text": [
      "/Users/juancho/anaconda3/envs/isproject/lib/python3.6/site-packages/ipykernel_launcher.py:13: UserWarning: The semantics of the Keras 2 argument `steps_per_epoch` is not the same as the Keras 1 argument `samples_per_epoch`. `steps_per_epoch` is the number of batches to draw from the generator at each epoch. Basically steps_per_epoch = samples_per_epoch/batch_size. Similarly `nb_val_samples`->`validation_steps` and `val_samples`->`steps` arguments have changed. Update your method calls accordingly.\n",
      "  del sys.path[0]\n",
      "/Users/juancho/anaconda3/envs/isproject/lib/python3.6/site-packages/ipykernel_launcher.py:13: UserWarning: Update your `fit_generator` call to the Keras 2 API: `fit_generator(<keras_pre..., epochs=30, validation_data=<keras_pre..., callbacks=[<keras.ca..., steps_per_epoch=6, validation_steps=6)`\n",
      "  del sys.path[0]\n"
     ]
    },
    {
     "name": "stdout",
     "output_type": "stream",
     "text": [
      "Epoch 1/30\n"
     ]
    },
    {
     "ename": "ValueError",
     "evalue": "Error when checking target: expected dense_4 to have shape (6,) but got array with shape (5,)",
     "output_type": "error",
     "traceback": [
      "\u001b[0;31m---------------------------------------------------------------------------\u001b[0m",
      "\u001b[0;31mValueError\u001b[0m                                Traceback (most recent call last)",
      "\u001b[0;32m<ipython-input-5-2b8f29f16b34>\u001b[0m in \u001b[0;36m<module>\u001b[0;34m\u001b[0m\n\u001b[1;32m     11\u001b[0m     \u001b[0mvalidation_data\u001b[0m \u001b[0;34m=\u001b[0m \u001b[0mvalidation_generator\u001b[0m\u001b[0;34m,\u001b[0m\u001b[0;34m\u001b[0m\u001b[0;34m\u001b[0m\u001b[0m\n\u001b[1;32m     12\u001b[0m     \u001b[0mnb_val_samples\u001b[0m \u001b[0;34m=\u001b[0m \u001b[0mnb_validation_samples\u001b[0m\u001b[0;34m,\u001b[0m\u001b[0;34m\u001b[0m\u001b[0;34m\u001b[0m\u001b[0m\n\u001b[0;32m---> 13\u001b[0;31m     callbacks = [checkpoint, early])\n\u001b[0m\u001b[1;32m     14\u001b[0m \u001b[0;34m\u001b[0m\u001b[0m\n\u001b[1;32m     15\u001b[0m \u001b[0mmodel_final\u001b[0m\u001b[0;34m.\u001b[0m\u001b[0msave_weights\u001b[0m\u001b[0;34m(\u001b[0m\u001b[0;34m'pretrained-resnet.h5'\u001b[0m\u001b[0;34m)\u001b[0m\u001b[0;34m\u001b[0m\u001b[0;34m\u001b[0m\u001b[0m\n",
      "\u001b[0;32m~/anaconda3/envs/isproject/lib/python3.6/site-packages/keras/legacy/interfaces.py\u001b[0m in \u001b[0;36mwrapper\u001b[0;34m(*args, **kwargs)\u001b[0m\n\u001b[1;32m     89\u001b[0m                 warnings.warn('Update your `' + object_name + '` call to the ' +\n\u001b[1;32m     90\u001b[0m                               'Keras 2 API: ' + signature, stacklevel=2)\n\u001b[0;32m---> 91\u001b[0;31m             \u001b[0;32mreturn\u001b[0m \u001b[0mfunc\u001b[0m\u001b[0;34m(\u001b[0m\u001b[0;34m*\u001b[0m\u001b[0margs\u001b[0m\u001b[0;34m,\u001b[0m \u001b[0;34m**\u001b[0m\u001b[0mkwargs\u001b[0m\u001b[0;34m)\u001b[0m\u001b[0;34m\u001b[0m\u001b[0;34m\u001b[0m\u001b[0m\n\u001b[0m\u001b[1;32m     92\u001b[0m         \u001b[0mwrapper\u001b[0m\u001b[0;34m.\u001b[0m\u001b[0m_original_function\u001b[0m \u001b[0;34m=\u001b[0m \u001b[0mfunc\u001b[0m\u001b[0;34m\u001b[0m\u001b[0;34m\u001b[0m\u001b[0m\n\u001b[1;32m     93\u001b[0m         \u001b[0;32mreturn\u001b[0m \u001b[0mwrapper\u001b[0m\u001b[0;34m\u001b[0m\u001b[0;34m\u001b[0m\u001b[0m\n",
      "\u001b[0;32m~/anaconda3/envs/isproject/lib/python3.6/site-packages/keras/engine/training.py\u001b[0m in \u001b[0;36mfit_generator\u001b[0;34m(self, generator, steps_per_epoch, epochs, verbose, callbacks, validation_data, validation_steps, class_weight, max_queue_size, workers, use_multiprocessing, shuffle, initial_epoch)\u001b[0m\n\u001b[1;32m   1416\u001b[0m             \u001b[0muse_multiprocessing\u001b[0m\u001b[0;34m=\u001b[0m\u001b[0muse_multiprocessing\u001b[0m\u001b[0;34m,\u001b[0m\u001b[0;34m\u001b[0m\u001b[0;34m\u001b[0m\u001b[0m\n\u001b[1;32m   1417\u001b[0m             \u001b[0mshuffle\u001b[0m\u001b[0;34m=\u001b[0m\u001b[0mshuffle\u001b[0m\u001b[0;34m,\u001b[0m\u001b[0;34m\u001b[0m\u001b[0;34m\u001b[0m\u001b[0m\n\u001b[0;32m-> 1418\u001b[0;31m             initial_epoch=initial_epoch)\n\u001b[0m\u001b[1;32m   1419\u001b[0m \u001b[0;34m\u001b[0m\u001b[0m\n\u001b[1;32m   1420\u001b[0m     \u001b[0;34m@\u001b[0m\u001b[0minterfaces\u001b[0m\u001b[0;34m.\u001b[0m\u001b[0mlegacy_generator_methods_support\u001b[0m\u001b[0;34m\u001b[0m\u001b[0;34m\u001b[0m\u001b[0m\n",
      "\u001b[0;32m~/anaconda3/envs/isproject/lib/python3.6/site-packages/keras/engine/training_generator.py\u001b[0m in \u001b[0;36mfit_generator\u001b[0;34m(model, generator, steps_per_epoch, epochs, verbose, callbacks, validation_data, validation_steps, class_weight, max_queue_size, workers, use_multiprocessing, shuffle, initial_epoch)\u001b[0m\n\u001b[1;32m    215\u001b[0m                 outs = model.train_on_batch(x, y,\n\u001b[1;32m    216\u001b[0m                                             \u001b[0msample_weight\u001b[0m\u001b[0;34m=\u001b[0m\u001b[0msample_weight\u001b[0m\u001b[0;34m,\u001b[0m\u001b[0;34m\u001b[0m\u001b[0;34m\u001b[0m\u001b[0m\n\u001b[0;32m--> 217\u001b[0;31m                                             class_weight=class_weight)\n\u001b[0m\u001b[1;32m    218\u001b[0m \u001b[0;34m\u001b[0m\u001b[0m\n\u001b[1;32m    219\u001b[0m                 \u001b[0mouts\u001b[0m \u001b[0;34m=\u001b[0m \u001b[0mto_list\u001b[0m\u001b[0;34m(\u001b[0m\u001b[0mouts\u001b[0m\u001b[0;34m)\u001b[0m\u001b[0;34m\u001b[0m\u001b[0;34m\u001b[0m\u001b[0m\n",
      "\u001b[0;32m~/anaconda3/envs/isproject/lib/python3.6/site-packages/keras/engine/training.py\u001b[0m in \u001b[0;36mtrain_on_batch\u001b[0;34m(self, x, y, sample_weight, class_weight)\u001b[0m\n\u001b[1;32m   1209\u001b[0m             \u001b[0mx\u001b[0m\u001b[0;34m,\u001b[0m \u001b[0my\u001b[0m\u001b[0;34m,\u001b[0m\u001b[0;34m\u001b[0m\u001b[0;34m\u001b[0m\u001b[0m\n\u001b[1;32m   1210\u001b[0m             \u001b[0msample_weight\u001b[0m\u001b[0;34m=\u001b[0m\u001b[0msample_weight\u001b[0m\u001b[0;34m,\u001b[0m\u001b[0;34m\u001b[0m\u001b[0;34m\u001b[0m\u001b[0m\n\u001b[0;32m-> 1211\u001b[0;31m             class_weight=class_weight)\n\u001b[0m\u001b[1;32m   1212\u001b[0m         \u001b[0;32mif\u001b[0m \u001b[0mself\u001b[0m\u001b[0;34m.\u001b[0m\u001b[0m_uses_dynamic_learning_phase\u001b[0m\u001b[0;34m(\u001b[0m\u001b[0;34m)\u001b[0m\u001b[0;34m:\u001b[0m\u001b[0;34m\u001b[0m\u001b[0;34m\u001b[0m\u001b[0m\n\u001b[1;32m   1213\u001b[0m             \u001b[0mins\u001b[0m \u001b[0;34m=\u001b[0m \u001b[0mx\u001b[0m \u001b[0;34m+\u001b[0m \u001b[0my\u001b[0m \u001b[0;34m+\u001b[0m \u001b[0msample_weights\u001b[0m \u001b[0;34m+\u001b[0m \u001b[0;34m[\u001b[0m\u001b[0;36m1.\u001b[0m\u001b[0;34m]\u001b[0m\u001b[0;34m\u001b[0m\u001b[0;34m\u001b[0m\u001b[0m\n",
      "\u001b[0;32m~/anaconda3/envs/isproject/lib/python3.6/site-packages/keras/engine/training.py\u001b[0m in \u001b[0;36m_standardize_user_data\u001b[0;34m(self, x, y, sample_weight, class_weight, check_array_lengths, batch_size)\u001b[0m\n\u001b[1;32m    787\u001b[0m                 \u001b[0mfeed_output_shapes\u001b[0m\u001b[0;34m,\u001b[0m\u001b[0;34m\u001b[0m\u001b[0;34m\u001b[0m\u001b[0m\n\u001b[1;32m    788\u001b[0m                 \u001b[0mcheck_batch_axis\u001b[0m\u001b[0;34m=\u001b[0m\u001b[0;32mFalse\u001b[0m\u001b[0;34m,\u001b[0m  \u001b[0;31m# Don't enforce the batch size.\u001b[0m\u001b[0;34m\u001b[0m\u001b[0;34m\u001b[0m\u001b[0m\n\u001b[0;32m--> 789\u001b[0;31m                 exception_prefix='target')\n\u001b[0m\u001b[1;32m    790\u001b[0m \u001b[0;34m\u001b[0m\u001b[0m\n\u001b[1;32m    791\u001b[0m             \u001b[0;31m# Generate sample-wise weight values given the `sample_weight` and\u001b[0m\u001b[0;34m\u001b[0m\u001b[0;34m\u001b[0m\u001b[0;34m\u001b[0m\u001b[0m\n",
      "\u001b[0;32m~/anaconda3/envs/isproject/lib/python3.6/site-packages/keras/engine/training_utils.py\u001b[0m in \u001b[0;36mstandardize_input_data\u001b[0;34m(data, names, shapes, check_batch_axis, exception_prefix)\u001b[0m\n\u001b[1;32m    136\u001b[0m                             \u001b[0;34m': expected '\u001b[0m \u001b[0;34m+\u001b[0m \u001b[0mnames\u001b[0m\u001b[0;34m[\u001b[0m\u001b[0mi\u001b[0m\u001b[0;34m]\u001b[0m \u001b[0;34m+\u001b[0m \u001b[0;34m' to have shape '\u001b[0m \u001b[0;34m+\u001b[0m\u001b[0;34m\u001b[0m\u001b[0;34m\u001b[0m\u001b[0m\n\u001b[1;32m    137\u001b[0m                             \u001b[0mstr\u001b[0m\u001b[0;34m(\u001b[0m\u001b[0mshape\u001b[0m\u001b[0;34m)\u001b[0m \u001b[0;34m+\u001b[0m \u001b[0;34m' but got array with shape '\u001b[0m \u001b[0;34m+\u001b[0m\u001b[0;34m\u001b[0m\u001b[0;34m\u001b[0m\u001b[0m\n\u001b[0;32m--> 138\u001b[0;31m                             str(data_shape))\n\u001b[0m\u001b[1;32m    139\u001b[0m     \u001b[0;32mreturn\u001b[0m \u001b[0mdata\u001b[0m\u001b[0;34m\u001b[0m\u001b[0;34m\u001b[0m\u001b[0m\n\u001b[1;32m    140\u001b[0m \u001b[0;34m\u001b[0m\u001b[0m\n",
      "\u001b[0;31mValueError\u001b[0m: Error when checking target: expected dense_4 to have shape (6,) but got array with shape (5,)"
     ]
    }
   ],
   "source": [
    "# Save the model according to the conditions  \n",
    "checkpoint = ModelCheckpoint(\"vgg16_1.h5\", monitor='val_acc', verbose=1, save_best_only=True, save_weights_only=False, mode='auto', period=1)\n",
    "early = EarlyStopping(monitor='val_acc', min_delta=0, patience=10, verbose=1, mode='auto')\n",
    "\n",
    "\n",
    "# Train the model \n",
    "model_final.fit_generator(\n",
    "    train_generator,\n",
    "    samples_per_epoch = nb_train_samples,\n",
    "    epochs = epochs,\n",
    "    validation_data = validation_generator,\n",
    "    nb_val_samples = nb_validation_samples,\n",
    "    callbacks = [checkpoint, early])\n",
    "\n",
    "model_final.save_weights('pretrained-resnet.h5')"
   ]
  },
  {
   "cell_type": "code",
   "execution_count": 90,
   "metadata": {},
   "outputs": [
    {
     "name": "stdout",
     "output_type": "stream",
     "text": [
      "[INFO] loading network...\n",
      "(4, 4, 512)\n"
     ]
    }
   ],
   "source": [
    "import cv2\n",
    "from skimage import transform #Preprocess the frames\n",
    "from skimage.color import rgb2gray #To gray the frames\n",
    "import numpy as np\n",
    "\n",
    "def preprocess_image(image_uri):\n",
    "\n",
    "    # load the image\n",
    "    image = cv2.imread(image_uri)\n",
    "    #image = rgb2gray(image)\n",
    "\n",
    "    # pre-process the image for classification\n",
    "    image = transform.resize(image, [150, 150])\n",
    "    image = image.astype(\"float\") / 255.0\n",
    "    image = img_to_array(image)\n",
    "    image = np.expand_dims(image, axis=0)\n",
    "    \n",
    "    return image\n",
    "\n",
    "\n",
    "class Predictor:\n",
    "    def __init__(self, model_name):\n",
    "        print(\"[INFO] loading network...\")\n",
    "        self.model = build_model2()\n",
    "        self.weights = self.model.load_weights(model_name)\n",
    "    \n",
    "    def predict_image(self, image_uri):\n",
    "        # load the trained convolutional neural network\n",
    "        image = preprocess_image(image_uri)\n",
    "\n",
    "        # classify the input image then find the indexes of the two class\n",
    "        # labels with the *largest* probability\n",
    "        proba = self.model.predict(image)[0]\n",
    "        idxs = np.argsort(proba)\n",
    "        print(\"[INFO] classifying image...\",proba, idxs)\n",
    "\n",
    "        return np.argmax(proba)\n",
    "        \n",
    "predictor = Predictor(\"fc_model.h5\")"
   ]
  },
  {
   "cell_type": "code",
   "execution_count": 91,
   "metadata": {},
   "outputs": [
    {
     "name": "stderr",
     "output_type": "stream",
     "text": [
      "/Users/juancho/anaconda3/envs/isproject/lib/python3.6/site-packages/skimage/transform/_warps.py:105: UserWarning: The default mode, 'constant', will be changed to 'reflect' in skimage 0.15.\n",
      "  warn(\"The default mode, 'constant', will be changed to 'reflect' in \"\n",
      "/Users/juancho/anaconda3/envs/isproject/lib/python3.6/site-packages/skimage/transform/_warps.py:110: UserWarning: Anti-aliasing will be enabled by default in skimage 0.15 to avoid aliasing artifacts when down-sampling images.\n",
      "  warn(\"Anti-aliasing will be enabled by default in skimage 0.15 to \"\n"
     ]
    },
    {
     "ename": "AttributeError",
     "evalue": "'NoneType' object has no attribute 'shape'",
     "output_type": "error",
     "traceback": [
      "\u001b[0;31m---------------------------------------------------------------------------\u001b[0m",
      "\u001b[0;31mAttributeError\u001b[0m                            Traceback (most recent call last)",
      "\u001b[0;32m<ipython-input-91-18d284a98836>\u001b[0m in \u001b[0;36m<module>\u001b[0;34m\u001b[0m\n\u001b[1;32m      1\u001b[0m \u001b[0;32mfor\u001b[0m \u001b[0mi\u001b[0m \u001b[0;32min\u001b[0m \u001b[0mrange\u001b[0m\u001b[0;34m(\u001b[0m\u001b[0;36m1\u001b[0m\u001b[0;34m,\u001b[0m\u001b[0;36m7\u001b[0m\u001b[0;34m)\u001b[0m\u001b[0;34m:\u001b[0m\u001b[0;34m\u001b[0m\u001b[0;34m\u001b[0m\u001b[0m\n\u001b[0;32m----> 2\u001b[0;31m     \u001b[0mprint\u001b[0m\u001b[0;34m(\u001b[0m\u001b[0mpredictor\u001b[0m\u001b[0;34m.\u001b[0m\u001b[0mpredict_image\u001b[0m\u001b[0;34m(\u001b[0m\u001b[0;34m\"data/validation/%d/archivo00003.png\"\u001b[0m \u001b[0;34m%\u001b[0m\u001b[0mi\u001b[0m\u001b[0;34m)\u001b[0m\u001b[0;34m)\u001b[0m\u001b[0;34m\u001b[0m\u001b[0;34m\u001b[0m\u001b[0m\n\u001b[0m",
      "\u001b[0;32m<ipython-input-90-a9a19756da93>\u001b[0m in \u001b[0;36mpredict_image\u001b[0;34m(self, image_uri)\u001b[0m\n\u001b[1;32m     27\u001b[0m     \u001b[0;32mdef\u001b[0m \u001b[0mpredict_image\u001b[0m\u001b[0;34m(\u001b[0m\u001b[0mself\u001b[0m\u001b[0;34m,\u001b[0m \u001b[0mimage_uri\u001b[0m\u001b[0;34m)\u001b[0m\u001b[0;34m:\u001b[0m\u001b[0;34m\u001b[0m\u001b[0;34m\u001b[0m\u001b[0m\n\u001b[1;32m     28\u001b[0m         \u001b[0;31m# load the trained convolutional neural network\u001b[0m\u001b[0;34m\u001b[0m\u001b[0;34m\u001b[0m\u001b[0;34m\u001b[0m\u001b[0m\n\u001b[0;32m---> 29\u001b[0;31m         \u001b[0mimage\u001b[0m \u001b[0;34m=\u001b[0m \u001b[0mpreprocess_image\u001b[0m\u001b[0;34m(\u001b[0m\u001b[0mimage_uri\u001b[0m\u001b[0;34m)\u001b[0m\u001b[0;34m\u001b[0m\u001b[0;34m\u001b[0m\u001b[0m\n\u001b[0m\u001b[1;32m     30\u001b[0m \u001b[0;34m\u001b[0m\u001b[0m\n\u001b[1;32m     31\u001b[0m         \u001b[0;31m# classify the input image then find the indexes of the two class\u001b[0m\u001b[0;34m\u001b[0m\u001b[0;34m\u001b[0m\u001b[0;34m\u001b[0m\u001b[0m\n",
      "\u001b[0;32m<ipython-input-90-a9a19756da93>\u001b[0m in \u001b[0;36mpreprocess_image\u001b[0;34m(image_uri)\u001b[0m\n\u001b[1;32m     11\u001b[0m \u001b[0;34m\u001b[0m\u001b[0m\n\u001b[1;32m     12\u001b[0m     \u001b[0;31m# pre-process the image for classification\u001b[0m\u001b[0;34m\u001b[0m\u001b[0;34m\u001b[0m\u001b[0;34m\u001b[0m\u001b[0m\n\u001b[0;32m---> 13\u001b[0;31m     \u001b[0mimage\u001b[0m \u001b[0;34m=\u001b[0m \u001b[0mtransform\u001b[0m\u001b[0;34m.\u001b[0m\u001b[0mresize\u001b[0m\u001b[0;34m(\u001b[0m\u001b[0mimage\u001b[0m\u001b[0;34m,\u001b[0m \u001b[0;34m[\u001b[0m\u001b[0;36m150\u001b[0m\u001b[0;34m,\u001b[0m \u001b[0;36m150\u001b[0m\u001b[0;34m]\u001b[0m\u001b[0;34m)\u001b[0m\u001b[0;34m\u001b[0m\u001b[0;34m\u001b[0m\u001b[0m\n\u001b[0m\u001b[1;32m     14\u001b[0m     \u001b[0mimage\u001b[0m \u001b[0;34m=\u001b[0m \u001b[0mimage\u001b[0m\u001b[0;34m.\u001b[0m\u001b[0mastype\u001b[0m\u001b[0;34m(\u001b[0m\u001b[0;34m\"float\"\u001b[0m\u001b[0;34m)\u001b[0m \u001b[0;34m/\u001b[0m \u001b[0;36m255.0\u001b[0m\u001b[0;34m\u001b[0m\u001b[0;34m\u001b[0m\u001b[0m\n\u001b[1;32m     15\u001b[0m     \u001b[0mimage\u001b[0m \u001b[0;34m=\u001b[0m \u001b[0mimg_to_array\u001b[0m\u001b[0;34m(\u001b[0m\u001b[0mimage\u001b[0m\u001b[0;34m)\u001b[0m\u001b[0;34m\u001b[0m\u001b[0;34m\u001b[0m\u001b[0m\n",
      "\u001b[0;32m~/anaconda3/envs/isproject/lib/python3.6/site-packages/skimage/transform/_warps.py\u001b[0m in \u001b[0;36mresize\u001b[0;34m(image, output_shape, order, mode, cval, clip, preserve_range, anti_aliasing, anti_aliasing_sigma)\u001b[0m\n\u001b[1;32m    113\u001b[0m     \u001b[0moutput_shape\u001b[0m \u001b[0;34m=\u001b[0m \u001b[0mtuple\u001b[0m\u001b[0;34m(\u001b[0m\u001b[0moutput_shape\u001b[0m\u001b[0;34m)\u001b[0m\u001b[0;34m\u001b[0m\u001b[0;34m\u001b[0m\u001b[0m\n\u001b[1;32m    114\u001b[0m     \u001b[0moutput_ndim\u001b[0m \u001b[0;34m=\u001b[0m \u001b[0mlen\u001b[0m\u001b[0;34m(\u001b[0m\u001b[0moutput_shape\u001b[0m\u001b[0;34m)\u001b[0m\u001b[0;34m\u001b[0m\u001b[0;34m\u001b[0m\u001b[0m\n\u001b[0;32m--> 115\u001b[0;31m     \u001b[0minput_shape\u001b[0m \u001b[0;34m=\u001b[0m \u001b[0mimage\u001b[0m\u001b[0;34m.\u001b[0m\u001b[0mshape\u001b[0m\u001b[0;34m\u001b[0m\u001b[0;34m\u001b[0m\u001b[0m\n\u001b[0m\u001b[1;32m    116\u001b[0m     \u001b[0;32mif\u001b[0m \u001b[0moutput_ndim\u001b[0m \u001b[0;34m>\u001b[0m \u001b[0mimage\u001b[0m\u001b[0;34m.\u001b[0m\u001b[0mndim\u001b[0m\u001b[0;34m:\u001b[0m\u001b[0;34m\u001b[0m\u001b[0;34m\u001b[0m\u001b[0m\n\u001b[1;32m    117\u001b[0m         \u001b[0;31m# append dimensions to input_shape\u001b[0m\u001b[0;34m\u001b[0m\u001b[0;34m\u001b[0m\u001b[0;34m\u001b[0m\u001b[0m\n",
      "\u001b[0;31mAttributeError\u001b[0m: 'NoneType' object has no attribute 'shape'"
     ]
    }
   ],
   "source": [
    "for i in range(1,7):\n",
    "    print(predictor.predict_image(\"data/validation/%d/archivo00003.png\" %i))"
   ]
  },
  {
   "cell_type": "code",
   "execution_count": 89,
   "metadata": {},
   "outputs": [],
   "source": [
    "import numpy as np\n",
    "from keras.preprocessing.image import ImageDataGenerator\n",
    "from keras.models import Sequential\n",
    "from keras.layers import Dropout, Flatten, Dense\n",
    "from keras import applications\n",
    "\n",
    "# dimensions of our images.\n",
    "img_width, img_height = 150, 150\n",
    "\n",
    "top_model_weights_path = 'fc_model.h5'\n",
    "train_data_dir = 'data/train'\n",
    "validation_data_dir = 'data/validation'\n",
    "nb_train_samples = 25\n",
    "nb_validation_samples = 5\n",
    "epochs = 50\n",
    "batch_size = 5\n",
    "\n",
    "\n",
    "def save_bottlebeck_features():\n",
    "    datagen = ImageDataGenerator(rescale=1. / 255)\n",
    "\n",
    "    # build the VGG16 network\n",
    "    model = applications.VGG16(include_top=False, weights='imagenet')\n",
    "\n",
    "    generator = datagen.flow_from_directory(\n",
    "        train_data_dir,\n",
    "        target_size=(img_width, img_height),\n",
    "        batch_size=batch_size,\n",
    "        class_mode='categorical',\n",
    "        shuffle=False)\n",
    "    bottleneck_features_train = model.predict_generator(\n",
    "        generator, nb_train_samples)\n",
    "    np.save(open('bottleneck_features_train.npy', 'wb'),\n",
    "            bottleneck_features_train)\n",
    "\n",
    "    \n",
    "    generator = datagen.flow_from_directory(\n",
    "        validation_data_dir,\n",
    "        target_size=(img_width, img_height),\n",
    "        batch_size=batch_size,\n",
    "        class_mode='categorical',\n",
    "        shuffle=False)\n",
    "    bottleneck_features_validation = model.predict_generator(\n",
    "        generator, nb_validation_samples)\n",
    "\n",
    "    np.save(open('bottleneck_features_validation.npy', 'wb'),\n",
    "            bottleneck_features_validation)\n",
    "\n",
    "def build_model2():\n",
    "    train_data = np.load(open('bottleneck_features_train.npy', 'rb'))\n",
    "    \n",
    "    model = Sequential()\n",
    "    model.add(Flatten(input_shape=train_data.shape[1:]))\n",
    "    print(train_data.shape[1:])\n",
    "    model.add(Dense(256, activation='relu'))\n",
    "    model.add(Dropout(0.5))\n",
    "    model.add(Dense(5, activation='softmax'))\n",
    "    \n",
    "    return model\n",
    "\n",
    "    \n",
    "def train_top_model():\n",
    "    train_data = np.load(open('bottleneck_features_train.npy', 'rb'))\n",
    "    train_labels = np.array([[1,0,0,0,0]] * 25 + [[0,1,0,0,0]] * 25 +\n",
    "                           [[0,0,1,0,0]] * 25 + [[0,0,0,1,0]] * 25 + [[0,0,0,0,1]] * 25\n",
    "                           )\n",
    "\n",
    "    validation_data = np.load(open('bottleneck_features_validation.npy', 'rb'))\n",
    "    validation_labels = np.array([[1,0,0,0,0]] * 5 + [[0,1,0,0,0]] * 5 +\n",
    "                               [[0,0,1,0,0]] * 5 + [[0,0,0,1,0]] * 5 + [[0,0,0,0,1]] * 5\n",
    "                                )\n",
    "\n",
    "    model = Sequential()\n",
    "    model.add(Flatten(input_shape=train_data.shape[1:]))\n",
    "    print(train_data.shape[1:])\n",
    "    model.add(Dense(256, activation='relu'))\n",
    "    model.add(Dropout(0.5))\n",
    "    model.add(Dense(5, activation='softmax'))\n",
    "\n",
    "    model.compile(optimizer='rmsprop',\n",
    "                  loss='categorical_crossentropy', metrics=['accuracy'])\n",
    "\n",
    "    model.fit(train_data, train_labels,\n",
    "              epochs=epochs,\n",
    "              batch_size=batch_size,\n",
    "              validation_data=(validation_data, validation_labels))\n",
    "    \n",
    "    model.save_weights(top_model_weights_path)\n",
    "    "
   ]
  },
  {
   "cell_type": "code",
   "execution_count": null,
   "metadata": {},
   "outputs": [],
   "source": [
    "save_bottlebeck_features()\n",
    "train_top_model()"
   ]
  },
  {
   "cell_type": "code",
   "execution_count": 63,
   "metadata": {},
   "outputs": [],
   "source": [
    "from keras import applications\n",
    "from keras.preprocessing.image import ImageDataGenerator\n",
    "from keras import optimizers\n",
    "from keras.models import Sequential\n",
    "from keras.layers import Dropout, Flatten, Dense"
   ]
  },
  {
   "cell_type": "code",
   "execution_count": 82,
   "metadata": {},
   "outputs": [
    {
     "name": "stdout",
     "output_type": "stream",
     "text": [
      "Found 125 images belonging to 5 classes.\n",
      "Found 25 images belonging to 5 classes.\n"
     ]
    },
    {
     "name": "stderr",
     "output_type": "stream",
     "text": [
      "/Users/juancho/anaconda3/envs/isproject/lib/python3.6/site-packages/ipykernel_launcher.py:102: UserWarning: The semantics of the Keras 2 argument `steps_per_epoch` is not the same as the Keras 1 argument `samples_per_epoch`. `steps_per_epoch` is the number of batches to draw from the generator at each epoch. Basically steps_per_epoch = samples_per_epoch/batch_size. Similarly `nb_val_samples`->`validation_steps` and `val_samples`->`steps` arguments have changed. Update your method calls accordingly.\n",
      "/Users/juancho/anaconda3/envs/isproject/lib/python3.6/site-packages/ipykernel_launcher.py:102: UserWarning: Update your `fit_generator` call to the Keras 2 API: `fit_generator(<keras_pre..., epochs=20, validation_data=<keras_pre..., steps_per_epoch=5, validation_steps=5)`\n"
     ]
    },
    {
     "name": "stdout",
     "output_type": "stream",
     "text": [
      "Epoch 1/20\n"
     ]
    },
    {
     "ename": "ValueError",
     "evalue": "Error when checking target: expected block5_pool to have 4 dimensions, but got array with shape (5, 5)",
     "output_type": "error",
     "traceback": [
      "\u001b[0;31m---------------------------------------------------------------------------\u001b[0m",
      "\u001b[0;31mValueError\u001b[0m                                Traceback (most recent call last)",
      "\u001b[0;32m<ipython-input-82-b93121552af9>\u001b[0m in \u001b[0;36m<module>\u001b[0;34m\u001b[0m\n\u001b[1;32m    100\u001b[0m     \u001b[0mepochs\u001b[0m\u001b[0;34m=\u001b[0m\u001b[0mepochs\u001b[0m\u001b[0;34m,\u001b[0m\u001b[0;34m\u001b[0m\u001b[0;34m\u001b[0m\u001b[0m\n\u001b[1;32m    101\u001b[0m     \u001b[0mvalidation_data\u001b[0m\u001b[0;34m=\u001b[0m\u001b[0mvalidation_generator\u001b[0m\u001b[0;34m,\u001b[0m\u001b[0;34m\u001b[0m\u001b[0;34m\u001b[0m\u001b[0m\n\u001b[0;32m--> 102\u001b[0;31m     nb_val_samples=nb_validation_samples)\n\u001b[0m",
      "\u001b[0;32m~/anaconda3/envs/isproject/lib/python3.6/site-packages/keras/legacy/interfaces.py\u001b[0m in \u001b[0;36mwrapper\u001b[0;34m(*args, **kwargs)\u001b[0m\n\u001b[1;32m     89\u001b[0m                 warnings.warn('Update your `' + object_name + '` call to the ' +\n\u001b[1;32m     90\u001b[0m                               'Keras 2 API: ' + signature, stacklevel=2)\n\u001b[0;32m---> 91\u001b[0;31m             \u001b[0;32mreturn\u001b[0m \u001b[0mfunc\u001b[0m\u001b[0;34m(\u001b[0m\u001b[0;34m*\u001b[0m\u001b[0margs\u001b[0m\u001b[0;34m,\u001b[0m \u001b[0;34m**\u001b[0m\u001b[0mkwargs\u001b[0m\u001b[0;34m)\u001b[0m\u001b[0;34m\u001b[0m\u001b[0;34m\u001b[0m\u001b[0m\n\u001b[0m\u001b[1;32m     92\u001b[0m         \u001b[0mwrapper\u001b[0m\u001b[0;34m.\u001b[0m\u001b[0m_original_function\u001b[0m \u001b[0;34m=\u001b[0m \u001b[0mfunc\u001b[0m\u001b[0;34m\u001b[0m\u001b[0;34m\u001b[0m\u001b[0m\n\u001b[1;32m     93\u001b[0m         \u001b[0;32mreturn\u001b[0m \u001b[0mwrapper\u001b[0m\u001b[0;34m\u001b[0m\u001b[0;34m\u001b[0m\u001b[0m\n",
      "\u001b[0;32m~/anaconda3/envs/isproject/lib/python3.6/site-packages/keras/engine/training.py\u001b[0m in \u001b[0;36mfit_generator\u001b[0;34m(self, generator, steps_per_epoch, epochs, verbose, callbacks, validation_data, validation_steps, class_weight, max_queue_size, workers, use_multiprocessing, shuffle, initial_epoch)\u001b[0m\n\u001b[1;32m   1416\u001b[0m             \u001b[0muse_multiprocessing\u001b[0m\u001b[0;34m=\u001b[0m\u001b[0muse_multiprocessing\u001b[0m\u001b[0;34m,\u001b[0m\u001b[0;34m\u001b[0m\u001b[0;34m\u001b[0m\u001b[0m\n\u001b[1;32m   1417\u001b[0m             \u001b[0mshuffle\u001b[0m\u001b[0;34m=\u001b[0m\u001b[0mshuffle\u001b[0m\u001b[0;34m,\u001b[0m\u001b[0;34m\u001b[0m\u001b[0;34m\u001b[0m\u001b[0m\n\u001b[0;32m-> 1418\u001b[0;31m             initial_epoch=initial_epoch)\n\u001b[0m\u001b[1;32m   1419\u001b[0m \u001b[0;34m\u001b[0m\u001b[0m\n\u001b[1;32m   1420\u001b[0m     \u001b[0;34m@\u001b[0m\u001b[0minterfaces\u001b[0m\u001b[0;34m.\u001b[0m\u001b[0mlegacy_generator_methods_support\u001b[0m\u001b[0;34m\u001b[0m\u001b[0;34m\u001b[0m\u001b[0m\n",
      "\u001b[0;32m~/anaconda3/envs/isproject/lib/python3.6/site-packages/keras/engine/training_generator.py\u001b[0m in \u001b[0;36mfit_generator\u001b[0;34m(model, generator, steps_per_epoch, epochs, verbose, callbacks, validation_data, validation_steps, class_weight, max_queue_size, workers, use_multiprocessing, shuffle, initial_epoch)\u001b[0m\n\u001b[1;32m    215\u001b[0m                 outs = model.train_on_batch(x, y,\n\u001b[1;32m    216\u001b[0m                                             \u001b[0msample_weight\u001b[0m\u001b[0;34m=\u001b[0m\u001b[0msample_weight\u001b[0m\u001b[0;34m,\u001b[0m\u001b[0;34m\u001b[0m\u001b[0;34m\u001b[0m\u001b[0m\n\u001b[0;32m--> 217\u001b[0;31m                                             class_weight=class_weight)\n\u001b[0m\u001b[1;32m    218\u001b[0m \u001b[0;34m\u001b[0m\u001b[0m\n\u001b[1;32m    219\u001b[0m                 \u001b[0mouts\u001b[0m \u001b[0;34m=\u001b[0m \u001b[0mto_list\u001b[0m\u001b[0;34m(\u001b[0m\u001b[0mouts\u001b[0m\u001b[0;34m)\u001b[0m\u001b[0;34m\u001b[0m\u001b[0;34m\u001b[0m\u001b[0m\n",
      "\u001b[0;32m~/anaconda3/envs/isproject/lib/python3.6/site-packages/keras/engine/training.py\u001b[0m in \u001b[0;36mtrain_on_batch\u001b[0;34m(self, x, y, sample_weight, class_weight)\u001b[0m\n\u001b[1;32m   1209\u001b[0m             \u001b[0mx\u001b[0m\u001b[0;34m,\u001b[0m \u001b[0my\u001b[0m\u001b[0;34m,\u001b[0m\u001b[0;34m\u001b[0m\u001b[0;34m\u001b[0m\u001b[0m\n\u001b[1;32m   1210\u001b[0m             \u001b[0msample_weight\u001b[0m\u001b[0;34m=\u001b[0m\u001b[0msample_weight\u001b[0m\u001b[0;34m,\u001b[0m\u001b[0;34m\u001b[0m\u001b[0;34m\u001b[0m\u001b[0m\n\u001b[0;32m-> 1211\u001b[0;31m             class_weight=class_weight)\n\u001b[0m\u001b[1;32m   1212\u001b[0m         \u001b[0;32mif\u001b[0m \u001b[0mself\u001b[0m\u001b[0;34m.\u001b[0m\u001b[0m_uses_dynamic_learning_phase\u001b[0m\u001b[0;34m(\u001b[0m\u001b[0;34m)\u001b[0m\u001b[0;34m:\u001b[0m\u001b[0;34m\u001b[0m\u001b[0;34m\u001b[0m\u001b[0m\n\u001b[1;32m   1213\u001b[0m             \u001b[0mins\u001b[0m \u001b[0;34m=\u001b[0m \u001b[0mx\u001b[0m \u001b[0;34m+\u001b[0m \u001b[0my\u001b[0m \u001b[0;34m+\u001b[0m \u001b[0msample_weights\u001b[0m \u001b[0;34m+\u001b[0m \u001b[0;34m[\u001b[0m\u001b[0;36m1.\u001b[0m\u001b[0;34m]\u001b[0m\u001b[0;34m\u001b[0m\u001b[0;34m\u001b[0m\u001b[0m\n",
      "\u001b[0;32m~/anaconda3/envs/isproject/lib/python3.6/site-packages/keras/engine/training.py\u001b[0m in \u001b[0;36m_standardize_user_data\u001b[0;34m(self, x, y, sample_weight, class_weight, check_array_lengths, batch_size)\u001b[0m\n\u001b[1;32m    787\u001b[0m                 \u001b[0mfeed_output_shapes\u001b[0m\u001b[0;34m,\u001b[0m\u001b[0;34m\u001b[0m\u001b[0;34m\u001b[0m\u001b[0m\n\u001b[1;32m    788\u001b[0m                 \u001b[0mcheck_batch_axis\u001b[0m\u001b[0;34m=\u001b[0m\u001b[0;32mFalse\u001b[0m\u001b[0;34m,\u001b[0m  \u001b[0;31m# Don't enforce the batch size.\u001b[0m\u001b[0;34m\u001b[0m\u001b[0;34m\u001b[0m\u001b[0m\n\u001b[0;32m--> 789\u001b[0;31m                 exception_prefix='target')\n\u001b[0m\u001b[1;32m    790\u001b[0m \u001b[0;34m\u001b[0m\u001b[0m\n\u001b[1;32m    791\u001b[0m             \u001b[0;31m# Generate sample-wise weight values given the `sample_weight` and\u001b[0m\u001b[0;34m\u001b[0m\u001b[0;34m\u001b[0m\u001b[0;34m\u001b[0m\u001b[0m\n",
      "\u001b[0;32m~/anaconda3/envs/isproject/lib/python3.6/site-packages/keras/engine/training_utils.py\u001b[0m in \u001b[0;36mstandardize_input_data\u001b[0;34m(data, names, shapes, check_batch_axis, exception_prefix)\u001b[0m\n\u001b[1;32m    126\u001b[0m                         \u001b[0;34m': expected '\u001b[0m \u001b[0;34m+\u001b[0m \u001b[0mnames\u001b[0m\u001b[0;34m[\u001b[0m\u001b[0mi\u001b[0m\u001b[0;34m]\u001b[0m \u001b[0;34m+\u001b[0m \u001b[0;34m' to have '\u001b[0m \u001b[0;34m+\u001b[0m\u001b[0;34m\u001b[0m\u001b[0;34m\u001b[0m\u001b[0m\n\u001b[1;32m    127\u001b[0m                         \u001b[0mstr\u001b[0m\u001b[0;34m(\u001b[0m\u001b[0mlen\u001b[0m\u001b[0;34m(\u001b[0m\u001b[0mshape\u001b[0m\u001b[0;34m)\u001b[0m\u001b[0;34m)\u001b[0m \u001b[0;34m+\u001b[0m \u001b[0;34m' dimensions, but got array '\u001b[0m\u001b[0;34m\u001b[0m\u001b[0;34m\u001b[0m\u001b[0m\n\u001b[0;32m--> 128\u001b[0;31m                         'with shape ' + str(data_shape))\n\u001b[0m\u001b[1;32m    129\u001b[0m                 \u001b[0;32mif\u001b[0m \u001b[0;32mnot\u001b[0m \u001b[0mcheck_batch_axis\u001b[0m\u001b[0;34m:\u001b[0m\u001b[0;34m\u001b[0m\u001b[0;34m\u001b[0m\u001b[0m\n\u001b[1;32m    130\u001b[0m                     \u001b[0mdata_shape\u001b[0m \u001b[0;34m=\u001b[0m \u001b[0mdata_shape\u001b[0m\u001b[0;34m[\u001b[0m\u001b[0;36m1\u001b[0m\u001b[0;34m:\u001b[0m\u001b[0;34m]\u001b[0m\u001b[0;34m\u001b[0m\u001b[0;34m\u001b[0m\u001b[0m\n",
      "\u001b[0;31mValueError\u001b[0m: Error when checking target: expected block5_pool to have 4 dimensions, but got array with shape (5, 5)"
     ]
    }
   ],
   "source": [
    "from tensorflow.python.keras.layers import Lambda\n",
    "from tensorflow.python.keras import backend as K\n",
    "\n",
    "\n",
    "# path to the model weights files.\n",
    "weights_path = '../keras/examples/vgg16_weights.h5'\n",
    "top_model_weights_path = 'fc_model.h5'\n",
    "# dimensions of our images.\n",
    "img_width, img_height = 150, 150\n",
    "\n",
    "train_data_dir = 'data/train'\n",
    "validation_data_dir = 'data/validation'\n",
    "nb_train_samples = 25\n",
    "nb_validation_samples = 5\n",
    "epochs = 20\n",
    "batch_size = 5\n",
    "\n",
    "\n",
    "model = applications.VGG16(weights='imagenet',include_top= False,input_shape=(150,150,3))\n",
    "#Get the last but one layer/tensor from the old model\n",
    "last_layer = model.layers[-2].output\n",
    "\n",
    "#Define the new layer/tensor for the new model\n",
    "new_model = Sequential()(last_layer)\n",
    "new_model = Flatten()(new_model)\n",
    "new_model = Dense(256, activation='relu')(new_model)\n",
    "new_model = Dropout(0.5)(new_model)\n",
    "new_model = Dense(5, activation='softmax')(new_model)\n",
    "\n",
    "#Create the new model, with the old models input and the new_model tensor as the output\n",
    "new_model = Model(model.input, new_model, name='Finetuned_VGG16')\n",
    "\n",
    "#Set all layers,except the last one to not trainable\n",
    "for layer in new_model.layers[:-1]: \n",
    "    layer.trainable=False\n",
    "\n",
    "\n",
    "#now train with the new outputs (cats and dogs!)\n",
    "\n",
    "\n",
    "\n",
    "# build the VGG16 network\n",
    "#model = applications.VGG16(weights='imagenet', include_top=False, input_shape = (150, 150, 3))\n",
    "#print('Model loaded.')\n",
    "\n",
    "# build a classifier model to put on top of the convolutional model\n",
    "#top_model = Sequential()\n",
    "#top_model.add(Flatten(input_shape=model.output_shape[1:]))\n",
    "#top_model.add(Dense(256, activation='relu'))\n",
    "#top_model.add(Dropout(0.5))\n",
    "#top_model.add(Dense(5, activation='softmax'))\n",
    "\n",
    "# note that it is necessary to start with a fully-trained\n",
    "# classifier, including the top classifier,\n",
    "# in order to successfully do fine-tuning\n",
    "#top_model.load_weights(top_model_weights_path)\n",
    "\n",
    "# add the model on top of the convolutional base\n",
    "#model.add(top_model)\n",
    "\n",
    "\n",
    "#model = Model(input = model.input, output=top_model)\n",
    "\n",
    "# set the first 25 layers (up to the last conv block)\n",
    "# to non-trainable (weights will not be updated)\n",
    "for layer in model.layers[:25]:\n",
    "    layer.trainable = False\n",
    "\n",
    "# compile the model with a SGD/momentum optimizer\n",
    "# and a very slow learning rate.\n",
    "model.compile(loss='categorical_crossentropy',\n",
    "              optimizer=optimizers.SGD(lr=1e-4, momentum=0.9),\n",
    "              metrics=['accuracy'])\n",
    "\n",
    "# prepare data augmentation configuration\n",
    "train_datagen = ImageDataGenerator(\n",
    "    rescale=1. / 255,\n",
    "    shear_range=0.2,\n",
    "    zoom_range=0.2,\n",
    "    horizontal_flip=True)\n",
    "\n",
    "test_datagen = ImageDataGenerator(rescale=1. / 255)\n",
    "\n",
    "train_generator = train_datagen.flow_from_directory(\n",
    "    train_data_dir,\n",
    "    target_size=(img_height, img_width),\n",
    "    batch_size=batch_size,\n",
    "    class_mode='categorical')\n",
    "\n",
    "validation_generator = test_datagen.flow_from_directory(\n",
    "    validation_data_dir,\n",
    "    target_size=(img_height, img_width),\n",
    "    batch_size=batch_size,\n",
    "    class_mode='categorical')\n",
    "\n",
    "# fine-tune the model\n",
    "model.fit_generator(\n",
    "    train_generator,\n",
    "    samples_per_epoch=nb_train_samples,\n",
    "    epochs=epochs,\n",
    "    validation_data=validation_generator,\n",
    "    nb_val_samples=nb_validation_samples)\n"
   ]
  },
  {
   "cell_type": "code",
   "execution_count": null,
   "metadata": {},
   "outputs": [],
   "source": []
  }
 ],
 "metadata": {
  "kernelspec": {
   "display_name": "Python 3",
   "language": "python",
   "name": "python3"
  },
  "language_info": {
   "codemirror_mode": {
    "name": "ipython",
    "version": 3
   },
   "file_extension": ".py",
   "mimetype": "text/x-python",
   "name": "python",
   "nbconvert_exporter": "python",
   "pygments_lexer": "ipython3",
   "version": "3.6.8"
  }
 },
 "nbformat": 4,
 "nbformat_minor": 2
}
